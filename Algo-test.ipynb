{
 "cells": [
  {
   "cell_type": "markdown",
   "metadata": {},
   "source": [
    "# Algo 1 "
   ]
  },
  {
   "cell_type": "code",
   "execution_count": 1,
   "metadata": {},
   "outputs": [],
   "source": [
    "def increase(L,x):\n",
    "    L[x]+=1\n",
    "\n",
    "    \n",
    "def maxCounter(L):\n",
    "    maxcntr=max(L)\n",
    "    for i in range (0,len(L)):\n",
    "        L[i]=maxcntr\n",
    "        \n",
    "\n",
    "def solution1(N,A):\n",
    "    \n",
    "    L=[0]*N\n",
    "    \n",
    "    for k in range (0,len(A)):\n",
    "        \n",
    "        if (A[k]>=1 and A[k]<=N):\n",
    "            increase(L,A[k]-1)\n",
    "            \n",
    "        elif[A[k]==N+1]:\n",
    "            maxCounter(L)\n",
    "            \n",
    "    return (L) \n"
   ]
  },
  {
   "cell_type": "code",
   "execution_count": 3,
   "metadata": {},
   "outputs": [
    {
     "name": "stdout",
     "output_type": "stream",
     "text": [
      "[3, 2, 2, 4, 2]\n"
     ]
    }
   ],
   "source": [
    "\n",
    "counters=5 \n",
    "A=[3,4,4,6,1,4,4]\n",
    "\n",
    "print(solution1(counters,A))\n"
   ]
  },
  {
   "cell_type": "markdown",
   "metadata": {},
   "source": [
    "# Algo 2"
   ]
  },
  {
   "cell_type": "code",
   "execution_count": 4,
   "metadata": {},
   "outputs": [],
   "source": [
    "def solution2(A,B):\n",
    "    c=[]\n",
    "    if(len(A)<2):\n",
    "        c=[0]*2\n",
    "    else:\n",
    "        c=[0]*len(A)\n",
    "        \n",
    "    c[0]=1\n",
    "    c[1]=2\n",
    "    for i in range(2,len(A)):\n",
    "        c[i] = (c[i - 1] + c[i - 2]) & ((1 << 30) - 1)\n",
    "    for i in range(0,len(A)):\n",
    "        A[i] = c[A[i] - 1] & ((1 << B[i]) - 1)\n",
    "        \n",
    "    return (A) \n",
    "    "
   ]
  },
  {
   "cell_type": "code",
   "execution_count": 5,
   "metadata": {},
   "outputs": [
    {
     "data": {
      "text/plain": [
       "[5, 1, 8, 0, 1]"
      ]
     },
     "execution_count": 5,
     "metadata": {},
     "output_type": "execute_result"
    }
   ],
   "source": [
    "c=[]\n",
    "c=solution2([4,4,5,5,1],[3,2,4,3,1])\n",
    "c"
   ]
  },
  {
   "cell_type": "markdown",
   "metadata": {},
   "source": [
    "# Algo3"
   ]
  },
  {
   "cell_type": "code",
   "execution_count": 25,
   "metadata": {},
   "outputs": [],
   "source": [
    "def solution3(A):\n",
    "    if (len(A)==0):\n",
    "        return 0 \n",
    "    else:\n",
    "        somme=0 \n",
    "        maximum=-sys.maxsize - 1\n",
    "        for i in range(0,len(A)):\n",
    "            value=abs(A[i])\n",
    "            somme+=value \n",
    "            if (maximum<value):\n",
    "                maximum=value \n",
    "            A[i]=value\n",
    "        counts=[0]* (maximum+1)\n",
    "        for e in A : \n",
    "            counts[e]+=1 \n",
    "                \n",
    "        r=[0]*(somme+1)\n",
    "        for i in range(1,len(r)):\n",
    "            r[i]=-1\n",
    "            \n",
    "        for i in range (1,len(counts)):\n",
    "            for j in range(0,len(r)):\n",
    "                if (r[j] >=0):\n",
    "                    r[j]=counts[i]\n",
    "                elif (j - i >= 0 and r[j - i] > 0):\n",
    "                    r[j] = r[j - i] - 1\n",
    "        result=somme\n",
    "        for i in range(0,len(r)//2+1):\n",
    "            if (r[i] >= 0 and result > abs(somme - 2 * i)):\n",
    "            \n",
    "                result = abs(somme - 2 * i)\n",
    "        return result\n",
    "    "
   ]
  },
  {
   "cell_type": "code",
   "execution_count": 26,
   "metadata": {},
   "outputs": [
    {
     "data": {
      "text/plain": [
       "0"
      ]
     },
     "execution_count": 26,
     "metadata": {},
     "output_type": "execute_result"
    }
   ],
   "source": [
    "a = solution3([1,5,2,-2])\n",
    "a"
   ]
  },
  {
   "cell_type": "code",
   "execution_count": null,
   "metadata": {},
   "outputs": [],
   "source": []
  }
 ],
 "metadata": {
  "kernelspec": {
   "display_name": "Python 3",
   "language": "python",
   "name": "python3"
  },
  "language_info": {
   "codemirror_mode": {
    "name": "ipython",
    "version": 3
   },
   "file_extension": ".py",
   "mimetype": "text/x-python",
   "name": "python",
   "nbconvert_exporter": "python",
   "pygments_lexer": "ipython3",
   "version": "3.8.6"
  }
 },
 "nbformat": 4,
 "nbformat_minor": 4
}
